{
 "cells": [
  {
   "cell_type": "markdown",
   "id": "35545e95-2e65-4275-a0d5-daf61d1edbe5",
   "metadata": {},
   "source": [
    "## Load pair-rule gene expression data\n",
    "from .mat file"
   ]
  },
  {
   "cell_type": "code",
   "execution_count": null,
   "id": "690271c2-ae25-45b0-9f32-12f7ea1f78a0",
   "metadata": {},
   "outputs": [],
   "source": [
    "import scipy.io\n",
    "import numpy as np\n",
    "import matplotlib.pyplot as plt\n",
    "\n",
    "matlab_data = scipy.io.loadmat('pair_rule_expression_data.mat')\n",
    "print(matlab_data)"
   ]
  },
  {
   "cell_type": "code",
   "execution_count": null,
   "id": "95cf9143-f20b-4978-b558-d34bd2e675fa",
   "metadata": {},
   "outputs": [],
   "source": [
    "print('test')"
   ]
  }
 ],
 "metadata": {
  "kernelspec": {
   "display_name": "Python 3 (ipykernel)",
   "language": "python",
   "name": "python3"
  },
  "language_info": {
   "codemirror_mode": {
    "name": "ipython",
    "version": 3
   },
   "file_extension": ".py",
   "mimetype": "text/x-python",
   "name": "python",
   "nbconvert_exporter": "python",
   "pygments_lexer": "ipython3",
   "version": "3.12.8"
  }
 },
 "nbformat": 4,
 "nbformat_minor": 5
}
