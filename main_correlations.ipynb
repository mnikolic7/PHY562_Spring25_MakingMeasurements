{
  "cells": [
    {
      "cell_type": "markdown",
      "metadata": {
        "id": "view-in-github",
        "colab_type": "text"
      },
      "source": [
        "<a href=\"https://colab.research.google.com/github/mnikolic7/PHY562_Spring25_MakingMeasurements/blob/main/main_correlations.ipynb\" target=\"_parent\"><img src=\"https://colab.research.google.com/assets/colab-badge.svg\" alt=\"Open In Colab\"/></a>"
      ]
    },
    {
      "cell_type": "code",
      "source": [
        "import numpy as np\n",
        "import matplotlib.pyplot as plt\n",
        "import pandas as pd\n",
        "import scipy.io as sio\n",
        "\n",
        "!wget https://github.com/mnikolic7/PHY562_Spring25_MakingMeasurements/raw/refs/heads/main/pair_rule_expression_data.mat\n",
        "data = sio.loadmat('pair_rule_expression_data.mat')"
      ],
      "metadata": {
        "id": "WkIfJX6FPjxC"
      },
      "execution_count": null,
      "outputs": []
    },
    {
      "cell_type": "code",
      "source": [
        "age=data['age'].flatten()\n",
        "Nemb=age.shape[0];\n",
        "\n",
        "Eve=data['profiles_eve']\n",
        "Run=data['profiles_run']\n",
        "Prd=data['profiles_prd']"
      ],
      "metadata": {
        "id": "8cBT_nh9TpS5"
      },
      "execution_count": 51,
      "outputs": []
    },
    {
      "cell_type": "code",
      "source": [
        "ax1=plt.subplot(3,1,1)\n",
        "ax1.pcolor(Eve)\n",
        "plt.xlabel('Embryo idx.')\n",
        "plt.ylabel('x_AP')\n",
        "\n",
        "ax2=plt.subplot(3,1,2)\n",
        "ax2.pcolor(Run)\n",
        "plt.xlabel('Embryo idx.')\n",
        "plt.ylabel('x_AP')\n",
        "\n",
        "ax3=plt.subplot(3,1,3)\n",
        "ax3.pcolor(Prd)\n",
        "plt.xlabel('Embryo idx.')\n",
        "plt.ylabel('x_AP')\n",
        "\n",
        "plt.show()"
      ],
      "metadata": {
        "id": "keiB8j9AY9yt"
      },
      "execution_count": null,
      "outputs": []
    }
  ],
  "metadata": {
    "colab": {
      "name": "Welcome To Colab",
      "toc_visible": true,
      "provenance": [],
      "include_colab_link": true
    },
    "kernelspec": {
      "display_name": "Python 3",
      "name": "python3"
    }
  },
  "nbformat": 4,
  "nbformat_minor": 0
}