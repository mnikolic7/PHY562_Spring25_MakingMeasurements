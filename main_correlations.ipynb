{
  "cells": [
    {
      "cell_type": "markdown",
      "metadata": {
        "id": "view-in-github",
        "colab_type": "text"
      },
      "source": [
        "<a href=\"https://colab.research.google.com/github/mnikolic7/PHY562_Spring25_MakingMeasurements/blob/main/main_correlations.ipynb\" target=\"_parent\"><img src=\"https://colab.research.google.com/assets/colab-badge.svg\" alt=\"Open In Colab\"/></a>"
      ]
    },
    {
      "cell_type": "code",
      "source": [
        "import numpy as np\n",
        "import matplotlib.pyplot as plt\n",
        "import pandas as pd\n",
        "import scipy.io as sio\n",
        "\n",
        "!wget https://github.com/mnikolic7/PHY562_Spring25_MakingMeasurements/raw/refs/heads/main/pair_rule_expression_data.mat\n",
        "data = sio.loadmat('pair_rule_expression_data.mat')"
      ],
      "metadata": {
        "id": "WkIfJX6FPjxC",
        "outputId": "df4d9bfa-2112-46d3-ec62-ff03965f728a",
        "colab": {
          "base_uri": "https://localhost:8080/"
        }
      },
      "execution_count": 1,
      "outputs": [
        {
          "output_type": "stream",
          "name": "stdout",
          "text": [
            "--2025-01-28 19:21:23--  https://github.com/mnikolic7/PHY562_Spring25_MakingMeasurements/raw/refs/heads/main/pair_rule_expression_data.mat\n",
            "Resolving github.com (github.com)... 140.82.113.4\n",
            "Connecting to github.com (github.com)|140.82.113.4|:443... connected.\n",
            "HTTP request sent, awaiting response... 302 Found\n",
            "Location: https://raw.githubusercontent.com/mnikolic7/PHY562_Spring25_MakingMeasurements/refs/heads/main/pair_rule_expression_data.mat [following]\n",
            "--2025-01-28 19:21:24--  https://raw.githubusercontent.com/mnikolic7/PHY562_Spring25_MakingMeasurements/refs/heads/main/pair_rule_expression_data.mat\n",
            "Resolving raw.githubusercontent.com (raw.githubusercontent.com)... 185.199.109.133, 185.199.108.133, 185.199.110.133, ...\n",
            "Connecting to raw.githubusercontent.com (raw.githubusercontent.com)|185.199.109.133|:443... connected.\n",
            "HTTP request sent, awaiting response... 200 OK\n",
            "Length: 1849176 (1.8M) [application/octet-stream]\n",
            "Saving to: ‘pair_rule_expression_data.mat’\n",
            "\n",
            "pair_rule_expressio 100%[===================>]   1.76M  --.-KB/s    in 0.07s   \n",
            "\n",
            "2025-01-28 19:21:24 (25.3 MB/s) - ‘pair_rule_expression_data.mat’ saved [1849176/1849176]\n",
            "\n"
          ]
        }
      ]
    },
    {
      "cell_type": "code",
      "source": [
        "age=data['age']\n",
        "Eve=data['profiles_eve']\n",
        "Run=data['profiles_run']\n",
        "Prd=data['profiles_prd']"
      ],
      "metadata": {
        "id": "8cBT_nh9TpS5",
        "outputId": "732152f5-11f8-4c24-ae64-8faab98820e3",
        "colab": {
          "base_uri": "https://localhost:8080/"
        }
      },
      "execution_count": 27,
      "outputs": [
        {
          "output_type": "execute_result",
          "data": {
            "text/plain": [
              "numpy.ndarray"
            ]
          },
          "metadata": {},
          "execution_count": 27
        }
      ]
    },
    {
      "cell_type": "code",
      "source": [
        "data.keys()"
      ],
      "metadata": {
        "id": "5DYTQch7WUYe",
        "outputId": "225a1bf9-58b4-4ea4-ba0e-766a5008f707",
        "colab": {
          "base_uri": "https://localhost:8080/"
        }
      },
      "execution_count": 26,
      "outputs": [
        {
          "output_type": "execute_result",
          "data": {
            "text/plain": [
              "dict_keys(['__header__', '__version__', '__globals__', 'age', 'profiles_eve', 'profiles_prd', 'profiles_run'])"
            ]
          },
          "metadata": {},
          "execution_count": 26
        }
      ]
    }
  ],
  "metadata": {
    "colab": {
      "name": "Welcome To Colab",
      "toc_visible": true,
      "provenance": [],
      "include_colab_link": true
    },
    "kernelspec": {
      "display_name": "Python 3",
      "name": "python3"
    }
  },
  "nbformat": 4,
  "nbformat_minor": 0
}